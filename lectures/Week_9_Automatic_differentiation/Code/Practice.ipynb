{
 "cells": [
  {
   "cell_type": "markdown",
   "metadata": {},
   "source": [
    "# P9 - Classification Report & Autodiff Demo\n",
    "\n",
    "We will showcase **Automatic Differentiation** using the small `autodiff` implementation we have provided in Assignment 2."
   ]
  },
  {
   "cell_type": "markdown",
   "metadata": {},
   "source": [
    "# Classification Report"
   ]
  },
  {
   "cell_type": "code",
   "execution_count": 1,
   "metadata": {},
   "outputs": [],
   "source": [
    "import numpy as np"
   ]
  },
  {
   "cell_type": "code",
   "execution_count": 2,
   "metadata": {},
   "outputs": [],
   "source": [
    "y_pred = 13*[0] + 2*[1] + 4*[0] + 1*[1] + 4*[2] + 1*[0] + 5*[2] + 9*[3] + 1*[2] + 5*[3]\n",
    "y_true = 15*[0] + 5*[1] + 10*[2] + 15*[3]"
   ]
  },
  {
   "cell_type": "code",
   "execution_count": 3,
   "metadata": {},
   "outputs": [
    {
     "data": {
      "text/plain": [
       "array([0, 0, 0, 0, 0, 0, 0, 0, 0, 0, 0, 0, 0, 1, 1, 0, 0, 0, 0, 1, 2, 2,\n",
       "       2, 2, 0, 2, 2, 2, 2, 2, 3, 3, 3, 3, 3, 3, 3, 3, 3, 2, 3, 3, 3, 3,\n",
       "       3])"
      ]
     },
     "execution_count": 3,
     "metadata": {},
     "output_type": "execute_result"
    }
   ],
   "source": [
    "np.array(y_pred)"
   ]
  },
  {
   "cell_type": "code",
   "execution_count": 4,
   "metadata": {},
   "outputs": [
    {
     "data": {
      "text/plain": [
       "array([0, 0, 0, 0, 0, 0, 0, 0, 0, 0, 0, 0, 0, 0, 0, 1, 1, 1, 1, 1, 2, 2,\n",
       "       2, 2, 2, 2, 2, 2, 2, 2, 3, 3, 3, 3, 3, 3, 3, 3, 3, 3, 3, 3, 3, 3,\n",
       "       3])"
      ]
     },
     "execution_count": 4,
     "metadata": {},
     "output_type": "execute_result"
    }
   ],
   "source": [
    "np.array(y_true)"
   ]
  },
  {
   "cell_type": "code",
   "execution_count": 5,
   "metadata": {},
   "outputs": [
    {
     "name": "stdout",
     "output_type": "stream",
     "text": [
      "              precision    recall  f1-score   support\n",
      "\n",
      "           0       0.72      0.87      0.79        15\n",
      "           1       0.33      0.20      0.25         5\n",
      "           2       0.90      0.90      0.90        10\n",
      "           3       1.00      0.93      0.97        15\n",
      "\n",
      "    accuracy                           0.82        45\n",
      "   macro avg       0.74      0.73      0.73        45\n",
      "weighted avg       0.81      0.82      0.81        45\n",
      "\n"
     ]
    }
   ],
   "source": [
    "from sklearn.metrics import classification_report\n",
    "report = classification_report(y_true, y_pred)\n",
    "print(report)"
   ]
  },
  {
   "cell_type": "markdown",
   "metadata": {},
   "source": [
    "# Autodiff"
   ]
  },
  {
   "cell_type": "markdown",
   "metadata": {},
   "source": [
    "## Forward Pass"
   ]
  },
  {
   "cell_type": "markdown",
   "metadata": {},
   "source": [
    "![lecture-forward](./forward.png)"
   ]
  },
  {
   "cell_type": "code",
   "execution_count": 6,
   "metadata": {},
   "outputs": [],
   "source": [
    "from autodiff.scalar import Scalar\n",
    "\n",
    "x = Scalar(2.0)\n",
    "a = x**2\n",
    "b = a.exp()\n",
    "c = b + a\n",
    "d = c**0.5\n",
    "e = c.cos()\n",
    "f = d + e"
   ]
  },
  {
   "cell_type": "code",
   "execution_count": 7,
   "metadata": {},
   "outputs": [
    {
     "name": "stdout",
     "output_type": "stream",
     "text": [
      "x: Scalar(value=2.0, grad=0)\n"
     ]
    }
   ],
   "source": [
    "print(f'x: {x}')"
   ]
  },
  {
   "cell_type": "code",
   "execution_count": 8,
   "metadata": {},
   "outputs": [
    {
     "name": "stdout",
     "output_type": "stream",
     "text": [
      "a: Scalar(value=4.0, grad=0)\n",
      "b: Scalar(value=54.598150033144236, grad=0)\n",
      "c: Scalar(value=58.598150033144236, grad=0)\n",
      "d: Scalar(value=7.654942849763429, grad=0)\n",
      "e: Scalar(value=-0.46061321417757406, grad=0)\n",
      "f: Scalar(value=7.194329635585855, grad=0)\n"
     ]
    }
   ],
   "source": [
    "for name, var in zip('abcdef', [a,b,c,d,e,f]):\n",
    "    print(f'{name}: {var}')"
   ]
  },
  {
   "cell_type": "markdown",
   "metadata": {},
   "source": [
    "## Backward Pass"
   ]
  },
  {
   "cell_type": "markdown",
   "metadata": {},
   "source": [
    "We wish to compute $$ \\frac{\\partial f}{\\partial x}\\bigg|_{x=2.0} $$\n",
    "\n",
    "Let's compute all derivatives $$\\frac{\\partial f}{\\partial f}\\bigg|_{f=7.19} \\qquad \\frac{\\partial f}{\\partial e}\\bigg|_{e=-0.46} \\qquad \\frac{\\partial f}{\\partial d}\\bigg|_{d=7.65} \\qquad \\frac{\\partial f}{\\partial c}\\bigg|_{c=58.60} \\qquad \\frac{\\partial f}{\\partial b}\\bigg|_{b=54.60} \\qquad \\frac{\\partial f}{\\partial a}\\bigg|_{a=4.0}$$"
   ]
  },
  {
   "cell_type": "code",
   "execution_count": 9,
   "metadata": {},
   "outputs": [],
   "source": [
    "f.backward()"
   ]
  },
  {
   "cell_type": "code",
   "execution_count": 10,
   "metadata": {},
   "outputs": [
    {
     "name": "stdout",
     "output_type": "stream",
     "text": [
      "x: Scalar(value=2.0, grad=-182.86980730598307)\n",
      "--------------------\n",
      "a: Scalar(value=4.0, grad=-45.71745182649577)\n",
      "b: Scalar(value=54.598150033144236, grad=-0.8222836874831592)\n",
      "c: Scalar(value=58.598150033144236, grad=-0.8222836874831592)\n",
      "d: Scalar(value=7.654942849763429, grad=1)\n",
      "e: Scalar(value=-0.46061321417757406, grad=1)\n",
      "f: Scalar(value=7.194329635585855, grad=1)\n"
     ]
    }
   ],
   "source": [
    "# Let's print the variables again\n",
    "print(f'x: {x}')\n",
    "print(20*'-')\n",
    "\n",
    "for name, var in zip('abcdef', [a,b,c,d,e,f]):\n",
    "    print(f'{name}: {var}')"
   ]
  },
  {
   "cell_type": "markdown",
   "metadata": {},
   "source": [
    "![lecture-backward](./backward.png)"
   ]
  },
  {
   "cell_type": "markdown",
   "metadata": {},
   "source": [
    "## Visualize Computational Graph"
   ]
  },
  {
   "cell_type": "code",
   "execution_count": null,
   "metadata": {},
   "outputs": [],
   "source": [
    "# %pip install graphviz"
   ]
  },
  {
   "cell_type": "code",
   "execution_count": 11,
   "metadata": {},
   "outputs": [],
   "source": [
    "from graphviz import Digraph\n",
    "\n",
    "def trace(root):\n",
    "    nodes, edges = set(), set()\n",
    "    def build(v):\n",
    "        if v not in nodes:\n",
    "            nodes.add(v)\n",
    "            for child in v._prev:\n",
    "                edges.add((child, v))\n",
    "                build(child)\n",
    "    build(root)\n",
    "    return nodes, edges\n",
    "\n",
    "def draw_dot(root, format='svg', rankdir='LR'):\n",
    "    \"\"\"\n",
    "    format: png | svg | ...\n",
    "    rankdir: TB (top to bottom graph) | LR (left to right)\n",
    "    \"\"\"\n",
    "    assert rankdir in ['LR', 'TB']\n",
    "    nodes, edges = trace(root)\n",
    "    dot = Digraph(format=format, graph_attr={'rankdir': rankdir}) #, node_attr={'rankdir': 'TB'})\n",
    "    \n",
    "    for n in nodes:\n",
    "        dot.node(name=str(id(n)), label = \"{ value %.4f | grad %.4f }\" % (n.value, n.grad), shape='record')\n",
    "        if n._op:\n",
    "            dot.node(name=str(id(n)) + n._op, label=n._op)\n",
    "            dot.edge(str(id(n)) + n._op, str(id(n)))\n",
    "    \n",
    "    for n1, n2 in edges:\n",
    "        dot.edge(str(id(n1)), str(id(n2)) + n2._op)\n",
    "    \n",
    "    return dot"
   ]
  },
  {
   "cell_type": "code",
   "execution_count": 12,
   "metadata": {},
   "outputs": [
    {
     "data": {
      "image/svg+xml": [
       "<?xml version=\"1.0\" encoding=\"UTF-8\" standalone=\"no\"?>\n",
       "<!DOCTYPE svg PUBLIC \"-//W3C//DTD SVG 1.1//EN\"\n",
       " \"http://www.w3.org/Graphics/SVG/1.1/DTD/svg11.dtd\">\n",
       "<!-- Generated by graphviz version 9.0.0 (0)\n",
       " -->\n",
       "<!-- Pages: 1 -->\n",
       "<svg width=\"1999pt\" height=\"100pt\"\n",
       " viewBox=\"0.00 0.00 1999.35 100.00\" xmlns=\"http://www.w3.org/2000/svg\" xmlns:xlink=\"http://www.w3.org/1999/xlink\">\n",
       "<g id=\"graph0\" class=\"graph\" transform=\"scale(1 1) rotate(0) translate(4 96)\">\n",
       "<polygon fill=\"white\" stroke=\"none\" points=\"-4,4 -4,-96 1995.35,-96 1995.35,4 -4,4\"/>\n",
       "<!-- 139943688234512 -->\n",
       "<g id=\"node1\" class=\"node\">\n",
       "<title>139943688234512</title>\n",
       "<polygon fill=\"none\" stroke=\"black\" points=\"0,-27.5 0,-63.5 233.75,-63.5 233.75,-27.5 0,-27.5\"/>\n",
       "<text text-anchor=\"middle\" x=\"54.12\" y=\"-41.2\" font-family=\"Times,serif\" font-size=\"14.00\">value 2.0000</text>\n",
       "<polyline fill=\"none\" stroke=\"black\" points=\"108.25,-28.25 108.25,-63.5\"/>\n",
       "<text text-anchor=\"middle\" x=\"171\" y=\"-41.2\" font-family=\"Times,serif\" font-size=\"14.00\">grad &#45;182.8698</text>\n",
       "</g>\n",
       "<!-- 139943682801424**2 -->\n",
       "<g id=\"node9\" class=\"node\">\n",
       "<title>139943682801424**2</title>\n",
       "<ellipse fill=\"none\" stroke=\"black\" cx=\"296.76\" cy=\"-45.5\" rx=\"27.01\" ry=\"18\"/>\n",
       "<text text-anchor=\"middle\" x=\"296.76\" y=\"-40.83\" font-family=\"Times,serif\" font-size=\"14.00\">**2</text>\n",
       "</g>\n",
       "<!-- 139943688234512&#45;&gt;139943682801424**2 -->\n",
       "<g id=\"edge11\" class=\"edge\">\n",
       "<title>139943688234512&#45;&gt;139943682801424**2</title>\n",
       "<path fill=\"none\" stroke=\"black\" d=\"M234.04,-45.5C242.51,-45.5 250.61,-45.5 257.99,-45.5\"/>\n",
       "<polygon fill=\"black\" stroke=\"black\" points=\"257.81,-49 267.81,-45.5 257.81,-42 257.81,-49\"/>\n",
       "</g>\n",
       "<!-- 139943682840656 -->\n",
       "<g id=\"node2\" class=\"node\">\n",
       "<title>139943682840656</title>\n",
       "<polygon fill=\"none\" stroke=\"black\" points=\"1440.6,-55.5 1440.6,-91.5 1651.85,-91.5 1651.85,-55.5 1440.6,-55.5\"/>\n",
       "<text text-anchor=\"middle\" x=\"1494.72\" y=\"-69.2\" font-family=\"Times,serif\" font-size=\"14.00\">value 7.6549</text>\n",
       "<polyline fill=\"none\" stroke=\"black\" points=\"1548.85,-56.25 1548.85,-91.5\"/>\n",
       "<text text-anchor=\"middle\" x=\"1600.35\" y=\"-69.2\" font-family=\"Times,serif\" font-size=\"14.00\">grad 1.0000</text>\n",
       "</g>\n",
       "<!-- 139943682840784+ -->\n",
       "<g id=\"node5\" class=\"node\">\n",
       "<title>139943682840784+</title>\n",
       "<ellipse fill=\"none\" stroke=\"black\" cx=\"1717.1\" cy=\"-45.5\" rx=\"27\" ry=\"18\"/>\n",
       "<text text-anchor=\"middle\" x=\"1717.1\" y=\"-40.83\" font-family=\"Times,serif\" font-size=\"14.00\">+</text>\n",
       "</g>\n",
       "<!-- 139943682840656&#45;&gt;139943682840784+ -->\n",
       "<g id=\"edge7\" class=\"edge\">\n",
       "<title>139943682840656&#45;&gt;139943682840784+</title>\n",
       "<path fill=\"none\" stroke=\"black\" d=\"M1652.25,-56.09C1661.72,-54.52 1670.81,-53.01 1679.03,-51.65\"/>\n",
       "<polygon fill=\"black\" stroke=\"black\" points=\"1679.58,-55.1 1688.87,-50.01 1678.43,-48.2 1679.58,-55.1\"/>\n",
       "</g>\n",
       "<!-- 139943682840656**0.5 -->\n",
       "<g id=\"node3\" class=\"node\">\n",
       "<title>139943682840656**0.5</title>\n",
       "<ellipse fill=\"none\" stroke=\"black\" cx=\"1365.87\" cy=\"-72.5\" rx=\"36.48\" ry=\"18\"/>\n",
       "<text text-anchor=\"middle\" x=\"1365.87\" y=\"-67.83\" font-family=\"Times,serif\" font-size=\"14.00\">**0.5</text>\n",
       "</g>\n",
       "<!-- 139943682840656**0.5&#45;&gt;139943682840656 -->\n",
       "<g id=\"edge1\" class=\"edge\">\n",
       "<title>139943682840656**0.5&#45;&gt;139943682840656</title>\n",
       "<path fill=\"none\" stroke=\"black\" d=\"M1402.53,-72.7C1410.57,-72.75 1419.53,-72.8 1428.93,-72.85\"/>\n",
       "<polygon fill=\"black\" stroke=\"black\" points=\"1428.61,-76.35 1438.63,-72.9 1428.65,-69.35 1428.61,-76.35\"/>\n",
       "</g>\n",
       "<!-- 139943682840784 -->\n",
       "<g id=\"node4\" class=\"node\">\n",
       "<title>139943682840784</title>\n",
       "<polygon fill=\"none\" stroke=\"black\" points=\"1780.1,-27.5 1780.1,-63.5 1991.35,-63.5 1991.35,-27.5 1780.1,-27.5\"/>\n",
       "<text text-anchor=\"middle\" x=\"1834.22\" y=\"-41.2\" font-family=\"Times,serif\" font-size=\"14.00\">value 7.1943</text>\n",
       "<polyline fill=\"none\" stroke=\"black\" points=\"1888.35,-28.25 1888.35,-63.5\"/>\n",
       "<text text-anchor=\"middle\" x=\"1939.85\" y=\"-41.2\" font-family=\"Times,serif\" font-size=\"14.00\">grad 1.0000</text>\n",
       "</g>\n",
       "<!-- 139943682840784+&#45;&gt;139943682840784 -->\n",
       "<g id=\"edge2\" class=\"edge\">\n",
       "<title>139943682840784+&#45;&gt;139943682840784</title>\n",
       "<path fill=\"none\" stroke=\"black\" d=\"M1744.5,-45.5C1751.6,-45.5 1759.75,-45.5 1768.48,-45.5\"/>\n",
       "<polygon fill=\"black\" stroke=\"black\" points=\"1768.29,-49 1778.29,-45.5 1768.29,-42 1768.29,-49\"/>\n",
       "</g>\n",
       "<!-- 139943688345808 -->\n",
       "<g id=\"node6\" class=\"node\">\n",
       "<title>139943688345808</title>\n",
       "<polygon fill=\"none\" stroke=\"black\" points=\"717.89,-51.5 717.89,-87.5 942.64,-87.5 942.64,-51.5 717.89,-51.5\"/>\n",
       "<text text-anchor=\"middle\" x=\"776.52\" y=\"-65.2\" font-family=\"Times,serif\" font-size=\"14.00\">value 54.5982</text>\n",
       "<polyline fill=\"none\" stroke=\"black\" points=\"835.14,-52.25 835.14,-87.5\"/>\n",
       "<text text-anchor=\"middle\" x=\"888.89\" y=\"-65.2\" font-family=\"Times,serif\" font-size=\"14.00\">grad &#45;0.8223</text>\n",
       "</g>\n",
       "<!-- 139943682799440+ -->\n",
       "<g id=\"node11\" class=\"node\">\n",
       "<title>139943682799440+</title>\n",
       "<ellipse fill=\"none\" stroke=\"black\" cx=\"1005.64\" cy=\"-45.5\" rx=\"27\" ry=\"18\"/>\n",
       "<text text-anchor=\"middle\" x=\"1005.64\" y=\"-40.83\" font-family=\"Times,serif\" font-size=\"14.00\">+</text>\n",
       "</g>\n",
       "<!-- 139943688345808&#45;&gt;139943682799440+ -->\n",
       "<g id=\"edge14\" class=\"edge\">\n",
       "<title>139943688345808&#45;&gt;139943682799440+</title>\n",
       "<path fill=\"none\" stroke=\"black\" d=\"M943.03,-54.03C951.72,-52.83 960.03,-51.68 967.59,-50.63\"/>\n",
       "<polygon fill=\"black\" stroke=\"black\" points=\"967.87,-54.12 977.29,-49.29 966.91,-47.19 967.87,-54.12\"/>\n",
       "</g>\n",
       "<!-- 139943688345808Exp -->\n",
       "<g id=\"node7\" class=\"node\">\n",
       "<title>139943688345808Exp</title>\n",
       "<ellipse fill=\"none\" stroke=\"black\" cx=\"651.2\" cy=\"-68.5\" rx=\"30.69\" ry=\"18\"/>\n",
       "<text text-anchor=\"middle\" x=\"651.2\" y=\"-63.83\" font-family=\"Times,serif\" font-size=\"14.00\">Exp</text>\n",
       "</g>\n",
       "<!-- 139943688345808Exp&#45;&gt;139943688345808 -->\n",
       "<g id=\"edge3\" class=\"edge\">\n",
       "<title>139943688345808Exp&#45;&gt;139943688345808</title>\n",
       "<path fill=\"none\" stroke=\"black\" d=\"M682.24,-68.67C689.46,-68.71 697.61,-68.76 706.28,-68.81\"/>\n",
       "<polygon fill=\"black\" stroke=\"black\" points=\"705.99,-72.3 716.01,-68.86 706.03,-65.3 705.99,-72.3\"/>\n",
       "</g>\n",
       "<!-- 139943682801424 -->\n",
       "<g id=\"node8\" class=\"node\">\n",
       "<title>139943682801424</title>\n",
       "<polygon fill=\"none\" stroke=\"black\" points=\"359.76,-27.5 359.76,-63.5 584.51,-63.5 584.51,-27.5 359.76,-27.5\"/>\n",
       "<text text-anchor=\"middle\" x=\"413.89\" y=\"-41.2\" font-family=\"Times,serif\" font-size=\"14.00\">value 4.0000</text>\n",
       "<polyline fill=\"none\" stroke=\"black\" points=\"468.01,-28.25 468.01,-63.5\"/>\n",
       "<text text-anchor=\"middle\" x=\"526.26\" y=\"-41.2\" font-family=\"Times,serif\" font-size=\"14.00\">grad &#45;45.7175</text>\n",
       "</g>\n",
       "<!-- 139943682801424&#45;&gt;139943688345808Exp -->\n",
       "<g id=\"edge9\" class=\"edge\">\n",
       "<title>139943682801424&#45;&gt;139943688345808Exp</title>\n",
       "<path fill=\"none\" stroke=\"black\" d=\"M584.77,-60C593.58,-61.14 602.06,-62.25 609.82,-63.25\"/>\n",
       "<polygon fill=\"black\" stroke=\"black\" points=\"609.15,-66.7 619.51,-64.51 610.05,-59.75 609.15,-66.7\"/>\n",
       "</g>\n",
       "<!-- 139943682801424&#45;&gt;139943682799440+ -->\n",
       "<g id=\"edge13\" class=\"edge\">\n",
       "<title>139943682801424&#45;&gt;139943682799440+</title>\n",
       "<path fill=\"none\" stroke=\"black\" d=\"M584.98,-42.15C596.98,-41.88 609,-41.66 620.51,-41.5 763.67,-39.56 799.55,-36.89 942.64,-41.5 950.54,-41.75 958.99,-42.19 967.03,-42.68\"/>\n",
       "<polygon fill=\"black\" stroke=\"black\" points=\"966.7,-46.17 976.91,-43.33 967.16,-39.18 966.7,-46.17\"/>\n",
       "</g>\n",
       "<!-- 139943682801424**2&#45;&gt;139943682801424 -->\n",
       "<g id=\"edge4\" class=\"edge\">\n",
       "<title>139943682801424**2&#45;&gt;139943682801424</title>\n",
       "<path fill=\"none\" stroke=\"black\" d=\"M324.09,-45.5C331.15,-45.5 339.27,-45.5 347.99,-45.5\"/>\n",
       "<polygon fill=\"black\" stroke=\"black\" points=\"347.82,-49 357.82,-45.5 347.82,-42 347.82,-49\"/>\n",
       "</g>\n",
       "<!-- 139943682799440 -->\n",
       "<g id=\"node10\" class=\"node\">\n",
       "<title>139943682799440</title>\n",
       "<polygon fill=\"none\" stroke=\"black\" points=\"1068.64,-27.5 1068.64,-63.5 1293.39,-63.5 1293.39,-27.5 1068.64,-27.5\"/>\n",
       "<text text-anchor=\"middle\" x=\"1127.27\" y=\"-41.2\" font-family=\"Times,serif\" font-size=\"14.00\">value 58.5982</text>\n",
       "<polyline fill=\"none\" stroke=\"black\" points=\"1185.89,-28.25 1185.89,-63.5\"/>\n",
       "<text text-anchor=\"middle\" x=\"1239.64\" y=\"-41.2\" font-family=\"Times,serif\" font-size=\"14.00\">grad &#45;0.8223</text>\n",
       "</g>\n",
       "<!-- 139943682799440&#45;&gt;139943682840656**0.5 -->\n",
       "<g id=\"edge8\" class=\"edge\">\n",
       "<title>139943682799440&#45;&gt;139943682840656**0.5</title>\n",
       "<path fill=\"none\" stroke=\"black\" d=\"M1293.65,-61.98C1302.54,-63.3 1311.17,-64.57 1319.16,-65.75\"/>\n",
       "<polygon fill=\"black\" stroke=\"black\" points=\"1318.49,-69.19 1328.89,-67.19 1319.51,-62.26 1318.49,-69.19\"/>\n",
       "</g>\n",
       "<!-- 139943682840528Cos -->\n",
       "<g id=\"node13\" class=\"node\">\n",
       "<title>139943682840528Cos</title>\n",
       "<ellipse fill=\"none\" stroke=\"black\" cx=\"1365.87\" cy=\"-18.5\" rx=\"29.64\" ry=\"18\"/>\n",
       "<text text-anchor=\"middle\" x=\"1365.87\" y=\"-13.82\" font-family=\"Times,serif\" font-size=\"14.00\">Cos</text>\n",
       "</g>\n",
       "<!-- 139943682799440&#45;&gt;139943682840528Cos -->\n",
       "<g id=\"edge12\" class=\"edge\">\n",
       "<title>139943682799440&#45;&gt;139943682840528Cos</title>\n",
       "<path fill=\"none\" stroke=\"black\" d=\"M1293.65,-29.02C1304.96,-27.35 1315.84,-25.74 1325.54,-24.31\"/>\n",
       "<polygon fill=\"black\" stroke=\"black\" points=\"1325.87,-27.8 1335.25,-22.87 1324.85,-20.87 1325.87,-27.8\"/>\n",
       "</g>\n",
       "<!-- 139943682799440+&#45;&gt;139943682799440 -->\n",
       "<g id=\"edge5\" class=\"edge\">\n",
       "<title>139943682799440+&#45;&gt;139943682799440</title>\n",
       "<path fill=\"none\" stroke=\"black\" d=\"M1032.98,-45.5C1040.04,-45.5 1048.16,-45.5 1056.88,-45.5\"/>\n",
       "<polygon fill=\"black\" stroke=\"black\" points=\"1056.7,-49 1066.7,-45.5 1056.7,-42 1056.7,-49\"/>\n",
       "</g>\n",
       "<!-- 139943682840528 -->\n",
       "<g id=\"node12\" class=\"node\">\n",
       "<title>139943682840528</title>\n",
       "<polygon fill=\"none\" stroke=\"black\" points=\"1438.35,-0.5 1438.35,-36.5 1654.1,-36.5 1654.1,-0.5 1438.35,-0.5\"/>\n",
       "<text text-anchor=\"middle\" x=\"1494.72\" y=\"-14.2\" font-family=\"Times,serif\" font-size=\"14.00\">value &#45;0.4606</text>\n",
       "<polyline fill=\"none\" stroke=\"black\" points=\"1551.1,-1.25 1551.1,-36.5\"/>\n",
       "<text text-anchor=\"middle\" x=\"1602.6\" y=\"-14.2\" font-family=\"Times,serif\" font-size=\"14.00\">grad 1.0000</text>\n",
       "</g>\n",
       "<!-- 139943682840528&#45;&gt;139943682840784+ -->\n",
       "<g id=\"edge10\" class=\"edge\">\n",
       "<title>139943682840528&#45;&gt;139943682840784+</title>\n",
       "<path fill=\"none\" stroke=\"black\" d=\"M1654.17,-35.6C1662.94,-37 1671.35,-38.35 1679,-39.57\"/>\n",
       "<polygon fill=\"black\" stroke=\"black\" points=\"1678.41,-43.02 1688.83,-41.14 1679.51,-36.11 1678.41,-43.02\"/>\n",
       "</g>\n",
       "<!-- 139943682840528Cos&#45;&gt;139943682840528 -->\n",
       "<g id=\"edge6\" class=\"edge\">\n",
       "<title>139943682840528Cos&#45;&gt;139943682840528</title>\n",
       "<path fill=\"none\" stroke=\"black\" d=\"M1395.92,-18.5C1404.88,-18.5 1415.35,-18.5 1426.52,-18.5\"/>\n",
       "<polygon fill=\"black\" stroke=\"black\" points=\"1426.38,-22 1436.38,-18.5 1426.38,-15 1426.38,-22\"/>\n",
       "</g>\n",
       "</g>\n",
       "</svg>\n"
      ],
      "text/plain": [
       "<graphviz.graphs.Digraph at 0x7f472d7f6fd0>"
      ]
     },
     "execution_count": 12,
     "metadata": {},
     "output_type": "execute_result"
    }
   ],
   "source": [
    "draw_dot(f)"
   ]
  },
  {
   "cell_type": "markdown",
   "metadata": {},
   "source": [
    "## Other AutoDiff Frameworks\n",
    "\n",
    "Other popular automatic differentiation frameworks include:\n",
    "+ [PyTorch](https://pytorch.org/)\n",
    "+ [TensorFlow](https://www.tensorflow.org/)\n",
    "+ [JAX](https://jax.readthedocs.io/)"
   ]
  },
  {
   "cell_type": "markdown",
   "metadata": {},
   "source": [
    "Let's use `pytorch` to build the same computational graph and then use its autodiff framework to compute gradients!"
   ]
  },
  {
   "cell_type": "code",
   "execution_count": 13,
   "metadata": {},
   "outputs": [],
   "source": [
    "import torch\n",
    "\n",
    "x = torch.tensor(2.0, requires_grad=True)\n",
    "a = x**2\n",
    "b = a.exp()\n",
    "c = b + a\n",
    "d = c**0.5\n",
    "e = c.cos()\n",
    "f = d + e"
   ]
  },
  {
   "cell_type": "code",
   "execution_count": 14,
   "metadata": {},
   "outputs": [
    {
     "name": "stdout",
     "output_type": "stream",
     "text": [
      "a: value=4.0, grad=None\n",
      "b: value=54.598148345947266, grad=None\n",
      "c: value=58.598148345947266, grad=None\n",
      "d: value=7.654942989349365, grad=None\n",
      "e: value=-0.4606117308139801, grad=None\n",
      "f: value=7.194331169128418, grad=None\n"
     ]
    }
   ],
   "source": [
    "for name, var in zip('abcdef', [a,b,c,d,e,f]):\n",
    "    var.retain_grad() # By default, pytorch doesn't save the gradients in var.grad if var is an intermediate tensor\n",
    "    print(f'{name}: value={var}, grad={var.grad}')"
   ]
  },
  {
   "cell_type": "code",
   "execution_count": 15,
   "metadata": {},
   "outputs": [],
   "source": [
    "f.backward()"
   ]
  },
  {
   "cell_type": "code",
   "execution_count": 16,
   "metadata": {},
   "outputs": [
    {
     "name": "stdout",
     "output_type": "stream",
     "text": [
      "x: value=2.0, grad=-182.86997985839844\n",
      "--------------------\n",
      "a: value=4.0, grad=-45.71749496459961\n",
      "b: value=54.598148345947266, grad=-0.822284460067749\n",
      "c: value=58.598148345947266, grad=-0.822284460067749\n",
      "d: value=7.654942989349365, grad=1.0\n",
      "e: value=-0.4606117308139801, grad=1.0\n",
      "f: value=7.194331169128418, grad=1.0\n"
     ]
    }
   ],
   "source": [
    "print(f'x: value={x}, grad={x.grad}')\n",
    "print(20*'-')\n",
    "\n",
    "for name, var in zip('abcdef', [a,b,c,d,e,f]):\n",
    "    print(f'{name}: value={var}, grad={var.grad}')"
   ]
  }
 ],
 "metadata": {
  "kernelspec": {
   "display_name": "ml_venv",
   "language": "python",
   "name": "python3"
  },
  "language_info": {
   "codemirror_mode": {
    "name": "ipython",
    "version": 3
   },
   "file_extension": ".py",
   "mimetype": "text/x-python",
   "name": "python",
   "nbconvert_exporter": "python",
   "pygments_lexer": "ipython3",
   "version": "3.11.5"
  },
  "toc": {
   "base_numbering": 1,
   "nav_menu": {},
   "number_sections": true,
   "sideBar": true,
   "skip_h1_title": false,
   "title_cell": "Table of Contents",
   "title_sidebar": "Contents",
   "toc_cell": false,
   "toc_position": {},
   "toc_section_display": true,
   "toc_window_display": false
  }
 },
 "nbformat": 4,
 "nbformat_minor": 4
}
